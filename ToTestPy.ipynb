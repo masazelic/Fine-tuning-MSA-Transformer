{
  "cells": [
    {
      "cell_type": "code",
      "execution_count": 2,
      "metadata": {
        "id": "W5zzTdF0l9vt",
        "colab": {
          "base_uri": "https://localhost:8080/"
        },
        "outputId": "0ad2d1c5-b0ae-4f22-91e5-b1614fda040d"
      },
      "outputs": [
        {
          "output_type": "stream",
          "name": "stdout",
          "text": [
            "Collecting fair-esm\n",
            "  Downloading fair_esm-2.0.0-py3-none-any.whl.metadata (37 kB)\n",
            "Downloading fair_esm-2.0.0-py3-none-any.whl (93 kB)\n",
            "\u001b[?25l   \u001b[90m━━━━━━━━━━━━━━━━━━━━━━━━━━━━━━━━━━━━━━━━\u001b[0m \u001b[32m0.0/93.1 kB\u001b[0m \u001b[31m?\u001b[0m eta \u001b[36m-:--:--\u001b[0m\r\u001b[2K   \u001b[90m━━━━━━━━━━━━━━━━━━━━━━━━━━━━━━━━━━━━━━━━\u001b[0m \u001b[32m93.1/93.1 kB\u001b[0m \u001b[31m7.0 MB/s\u001b[0m eta \u001b[36m0:00:00\u001b[0m\n",
            "\u001b[?25hInstalling collected packages: fair-esm\n",
            "Successfully installed fair-esm-2.0.0\n"
          ]
        }
      ],
      "source": [
        "!pip install fair-esm"
      ]
    },
    {
      "cell_type": "code",
      "source": [
        "!pip install biopython"
      ],
      "metadata": {
        "colab": {
          "base_uri": "https://localhost:8080/"
        },
        "id": "d2SxGzRsBRxm",
        "outputId": "b6cab3b6-01b8-4039-a722-07bcab4c8bc4"
      },
      "execution_count": 3,
      "outputs": [
        {
          "output_type": "stream",
          "name": "stdout",
          "text": [
            "Collecting biopython\n",
            "  Downloading biopython-1.84-cp310-cp310-manylinux_2_17_x86_64.manylinux2014_x86_64.whl.metadata (12 kB)\n",
            "Requirement already satisfied: numpy in /usr/local/lib/python3.10/dist-packages (from biopython) (1.26.4)\n",
            "Downloading biopython-1.84-cp310-cp310-manylinux_2_17_x86_64.manylinux2014_x86_64.whl (3.2 MB)\n",
            "\u001b[2K   \u001b[90m━━━━━━━━━━━━━━━━━━━━━━━━━━━━━━━━━━━━━━━━\u001b[0m \u001b[32m3.2/3.2 MB\u001b[0m \u001b[31m24.6 MB/s\u001b[0m eta \u001b[36m0:00:00\u001b[0m\n",
            "\u001b[?25hInstalling collected packages: biopython\n",
            "Successfully installed biopython-1.84\n"
          ]
        }
      ]
    },
    {
      "cell_type": "code",
      "source": [
        "msa_transformer, msa_alphabet = esm.pretrained.esm_msa1b_t12_100M_UR50S()\n",
        "msa_transformer = msa_transformer.eval()\n",
        "msa_batch_converter = msa_alphabet.get_batch_converter()"
      ],
      "metadata": {
        "id": "6NhKeGTjZw_T",
        "colab": {
          "base_uri": "https://localhost:8080/"
        },
        "outputId": "b0dcdefd-68ff-4ed4-e9d6-a080901324a2"
      },
      "execution_count": 4,
      "outputs": [
        {
          "output_type": "stream",
          "name": "stderr",
          "text": [
            "Downloading: \"https://dl.fbaipublicfiles.com/fair-esm/models/esm_msa1b_t12_100M_UR50S.pt\" to /root/.cache/torch/hub/checkpoints/esm_msa1b_t12_100M_UR50S.pt\n",
            "Downloading: \"https://dl.fbaipublicfiles.com/fair-esm/regression/esm_msa1b_t12_100M_UR50S-contact-regression.pt\" to /root/.cache/torch/hub/checkpoints/esm_msa1b_t12_100M_UR50S-contact-regression.pt\n"
          ]
        }
      ]
    },
    {
      "cell_type": "code",
      "source": [
        "#[(n, type(m)) for n, m in msa_transformer.named_modules()]"
      ],
      "metadata": {
        "id": "ejM7K9yLj8oN"
      },
      "execution_count": 5,
      "outputs": []
    },
    {
      "cell_type": "code",
      "source": [
        "# Start with importing libraries\n",
        "import os\n",
        "import random\n",
        "import pathlib\n",
        "import itertools\n",
        "import string\n",
        "from typing import List, Tuple\n",
        "import warnings\n",
        "\n",
        "import tqdm\n",
        "import peft\n",
        "\n",
        "import numpy as np\n",
        "import pandas as pd\n",
        "from numpy.random import default_rng\n",
        "from scipy.spatial.distance import pdist, squareform\n",
        "from scipy.stats import pearsonr\n",
        "\n",
        "import matplotlib.pyplot as plt\n",
        "from matplotlib import colors\n",
        "from matplotlib import cm\n",
        "\n",
        "from patsy import dmatrices\n",
        "with warnings.catch_warnings():\n",
        "    warnings.simplefilter(\"ignore\", category=FutureWarning)\n",
        "    import statsmodels.api as sm\n",
        "\n",
        "import esm\n",
        "import torch\n",
        "\n",
        "from Bio import SeqIO\n",
        "from Bio import Phylo"
      ],
      "metadata": {
        "id": "EzGadJheBF5D"
      },
      "execution_count": 1,
      "outputs": []
    },
    {
      "cell_type": "code",
      "source": [
        "import sys\n",
        "sys.path.append('/content/drive/MyDrive/data')\n",
        "\n",
        "import model_finetune\n",
        "import data\n",
        "import utils"
      ],
      "metadata": {
        "id": "Kv8OMFjChH47"
      },
      "execution_count": 2,
      "outputs": []
    },
    {
      "cell_type": "code",
      "source": [
        "pfam_family = \"PF00004\"\n",
        "MAX_DEPTH = 600\n",
        "n_layers = n_heads = 12\n",
        "msas_folder = pathlib.Path(\"/content/drive/MyDrive/data/subsampled_msa\")\n",
        "dists_folder = pathlib.Path(\"/content/drive/MyDrive/data/distance_matrix\")\n",
        "\n",
        "# This is an efficient way to delete lowercase characters and insertion characters from a string\n",
        "deletekeys = dict.fromkeys(string.ascii_lowercase) # Making dictionary where each lowercase ascii letter is key and value is set to None\n",
        "deletekeys[\".\"] = None\n",
        "deletekeys[\"*\"] = None\n",
        "translation = str.maketrans(deletekeys)\n",
        "\n",
        "def remove_insertions(sequence: str) -> str:\n",
        "    \"\"\" Removes any insertions into the sequences. Needed to load aligned sequences in an MSA.\"\"\"\n",
        "    return sequence.translate(translation)\n",
        "\n",
        "def read_msa(filename: str, nseq: int) -> List[Tuple[str, str]]:\n",
        "    \"\"\" Reads the first nseq sequences from an MSA file in fasta format, automatically removes insertions.\"\"\"\n",
        "    return [(record.description, remove_insertions(str(record.seq))) for record in itertools.islice(SeqIO.parse(filename, \"fasta\"), nseq)]"
      ],
      "metadata": {
        "id": "na0ZWR_QACI9"
      },
      "execution_count": 3,
      "outputs": []
    },
    {
      "cell_type": "code",
      "source": [
        "msa_family = read_msa(msas_folder / f\"{pfam_family}_subtree.fasta\", MAX_DEPTH)\n",
        "dists_family = np.load(dists_folder / f\"{pfam_family}_subtree.npy\")\n",
        "ratio_train_test = 0.8\n",
        "ratio_train_val = 0.1"
      ],
      "metadata": {
        "id": "tolv57ogBhFo"
      },
      "execution_count": 6,
      "outputs": []
    },
    {
      "cell_type": "code",
      "source": [
        "pfam_families = [\n",
        "    \"PF00004\",\n",
        "    \"PF00005\",\n",
        "    \"PF00041\",\n",
        "    \"PF00072\",\n",
        "    \"PF00076\",\n",
        "    \"PF00096\",\n",
        "    \"PF00153\",\n",
        "    \"PF00271\",\n",
        "    \"PF00397\",\n",
        "    \"PF00512\",\n",
        "    \"PF00595\",\n",
        "    \"PF01535\",\n",
        "    \"PF02518\",\n",
        "    \"PF07679\",\n",
        "    \"PF13354\"\n",
        "]\n",
        "train_data, val_data, test_data = data.train_val_test_split(pfam_families, ratio_train_test, ratio_train_val, MAX_DEPTH, msas_folder, dists_folder)"
      ],
      "metadata": {
        "id": "yC2Tbfd3AjEc"
      },
      "execution_count": 8,
      "outputs": []
    },
    {
      "cell_type": "code",
      "source": [
        "dataset = data.CustomDataset(train_data, 32)\n",
        "data_loader = torch.utils.data.DataLoader(dataset, batch_size=None)"
      ],
      "metadata": {
        "id": "CYXAKkVNGGSH"
      },
      "execution_count": 10,
      "outputs": []
    },
    {
      "cell_type": "code",
      "source": [
        "model = model_finetune.FineTuneMSATransformer()\n",
        "\n",
        "model = model.eval()\n",
        "with torch.no_grad():\n",
        "    for batch_sequences, batch_dists in data_loader:\n",
        "        prediction = model(batch_sequences)\n",
        "        break"
      ],
      "metadata": {
        "id": "AVpJ2ayMXXs-"
      },
      "execution_count": 24,
      "outputs": []
    },
    {
      "cell_type": "code",
      "source": [
        "store_target_modules, store_modules_to_save = utils.get_target_save_modules(model)"
      ],
      "metadata": {
        "id": "0OUZvd7-kgl6"
      },
      "execution_count": 19,
      "outputs": []
    },
    {
      "cell_type": "code",
      "source": [
        "store_modules_to_save"
      ],
      "metadata": {
        "colab": {
          "base_uri": "https://localhost:8080/"
        },
        "id": "bNFaYUnoh1Zy",
        "outputId": "6431dcbb-3845-49c1-8ed1-42a8e2d22053"
      },
      "execution_count": 20,
      "outputs": [
        {
          "output_type": "execute_result",
          "data": {
            "text/plain": [
              "['layers.finetune_linear_0',\n",
              " 'layers.finetune_linear_1',\n",
              " 'layers.finetune_linear_2',\n",
              " 'layers.finetune_linear_3']"
            ]
          },
          "metadata": {},
          "execution_count": 20
        }
      ]
    },
    {
      "cell_type": "code",
      "source": [
        "config = peft.LoraConfig(r=8, target_modules=store_target_modules, modules_to_save=store_modules_to_save)\n",
        "peft_model = peft.get_peft_model(model, config)"
      ],
      "metadata": {
        "id": "-JkCm-G9JSy3"
      },
      "execution_count": 23,
      "outputs": []
    },
    {
      "cell_type": "code",
      "source": [
        "peft_model.print_trainable_parameters()"
      ],
      "metadata": {
        "id": "Qm7oqEjaLomg",
        "colab": {
          "base_uri": "https://localhost:8080/"
        },
        "outputId": "6ca4deb3-f772-4628-c7c0-26a84c4bd791"
      },
      "execution_count": 22,
      "outputs": [
        {
          "output_type": "stream",
          "name": "stdout",
          "text": [
            "trainable params: 2,360,745 || all params: 117,978,628 || trainable%: 2.0010\n"
          ]
        }
      ]
    },
    {
      "cell_type": "code",
      "source": [],
      "metadata": {
        "id": "8RExleqV1Ql2"
      },
      "execution_count": null,
      "outputs": []
    }
  ],
  "metadata": {
    "colab": {
      "provenance": [],
      "mount_file_id": "1PME9mue-On40VOe083FfHQQd55zRv_S3",
      "authorship_tag": "ABX9TyMzhUixfYRLPrAZRbD4z98I"
    },
    "kernelspec": {
      "display_name": "Python 3",
      "name": "python3"
    },
    "language_info": {
      "name": "python"
    }
  },
  "nbformat": 4,
  "nbformat_minor": 0
}